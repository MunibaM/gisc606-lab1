{
 "cells": [
  {
   "cell_type": "code",
   "execution_count": null,
   "metadata": {},
   "outputs": [],
   "source": [
    "# Import packages\n",
    "import os\n",
    "\n",
    "import pandas as pd\n",
    "import earthpy as et"
   ]
  },
  {
   "cell_type": "code",
   "execution_count": null,
   "metadata": {},
   "outputs": [],
   "source": [
    "# URL for .csv with avg monthly precip data\n",
    "avg_monthly_precip_url = \"https://ndownloader.figshare.com/files/12710618\"\n",
    "\n",
    "# Download file\n",
    "et.data.get_data(url=avg_monthly_precip_url)"
   ]
  },
  {
   "cell_type": "code",
   "execution_count": null,
   "metadata": {},
   "outputs": [],
   "source": [
    "# Set working directory to earth-analytics\n",
    "os.chdir(os.path.join(et.io.HOME, \"earth-analytics\"))"
   ]
  },
  {
   "cell_type": "code",
   "execution_count": null,
   "metadata": {},
   "outputs": [],
   "source": [
    "# Import data from .csv file\n",
    "fname = os.path.join(\"data\", \"earthpy-downloads\", \n",
    "                     \"avg-precip-months-seasons.csv\")\n",
    "\n",
    "avg_monthly_precip = pd.read_csv(fname)\n",
    "\n",
    "avg_monthly_precip"
   ]
  },
  {
   "cell_type": "code",
   "execution_count": null,
   "metadata": {},
   "outputs": [],
   "source": [
    "# Select first row and first column\n",
    "avg_monthly_precip.iloc[0:1, 0:1]"
   ]
  },
  {
   "cell_type": "code",
   "execution_count": null,
   "metadata": {},
   "outputs": [],
   "source": [
    "# Select first two rows and first column\n",
    "avg_monthly_precip.iloc[0:2, 0:1]"
   ]
  },
  {
   "cell_type": "code",
   "execution_count": null,
   "metadata": {},
   "outputs": [],
   "source": [
    "# Select first row and first two columns\n",
    "avg_monthly_precip.iloc[0:1, 0:2]"
   ]
  },
  {
   "cell_type": "code",
   "execution_count": null,
   "metadata": {},
   "outputs": [],
   "source": [
    "# Select first row with all columns\n",
    "avg_monthly_precip.iloc[0:1, :]"
   ]
  },
  {
   "cell_type": "code",
   "execution_count": null,
   "metadata": {},
   "outputs": [],
   "source": [
    "# Select first column with all rows\n",
    "avg_monthly_precip.iloc[:, 0:1]"
   ]
  },
  {
   "cell_type": "code",
   "execution_count": null,
   "metadata": {},
   "outputs": [],
   "source": [
    "# Create new dataframe with `months` as index\n",
    "avg_monthly_precip_index = avg_monthly_precip.set_index(\"months\")\n",
    "\n",
    "avg_monthly_precip_index"
   ]
  },
  {
   "cell_type": "code",
   "execution_count": null,
   "metadata": {},
   "outputs": [],
   "source": [
    "# Select Aug using months index \n",
    "avg_monthly_precip_index.loc[[\"Aug\"]]"
   ]
  },
  {
   "cell_type": "code",
   "execution_count": null,
   "metadata": {},
   "outputs": [],
   "source": [
    "# Select the `months` column as series\n",
    "avg_monthly_precip[\"months\"]"
   ]
  },
  {
   "cell_type": "code",
   "execution_count": null,
   "metadata": {},
   "outputs": [],
   "source": [
    "# Select the `months` column as dataframe\n",
    "avg_monthly_precip[[\"months\"]]"
   ]
  },
  {
   "cell_type": "code",
   "execution_count": null,
   "metadata": {},
   "outputs": [],
   "source": [
    "# Save months and seasons to new dataframe\n",
    "avg_monthly_precip_text = avg_monthly_precip[['months', 'seasons']]\n",
    "\n",
    "avg_monthly_precip_text"
   ]
  },
  {
   "cell_type": "code",
   "execution_count": null,
   "metadata": {},
   "outputs": [],
   "source": [
    "# Select rows with Summer in seasons\n",
    "avg_monthly_precip[avg_monthly_precip[\"seasons\"] == \"Summer\"]"
   ]
  },
  {
   "cell_type": "code",
   "execution_count": null,
   "metadata": {},
   "outputs": [],
   "source": [
    "# Select rows with Jan in months\n",
    "jan_avg_precip = avg_monthly_precip[avg_monthly_precip[\"months\"] == \"Jan\"]\n",
    "\n",
    "jan_avg_precip"
   ]
  },
  {
   "cell_type": "code",
   "execution_count": null,
   "metadata": {},
   "outputs": [],
   "source": [
    "# Select rows equal to 1.62 in precip\n",
    "avg_monthly_precip[avg_monthly_precip[\"precip\"] == 1.62]"
   ]
  },
  {
   "cell_type": "code",
   "execution_count": null,
   "metadata": {},
   "outputs": [],
   "source": [
    "# Save rows with values greater than 2.0 to new dataframe\n",
    "gt2_avg_monthly_precip = avg_monthly_precip[avg_monthly_precip[\"precip\"] > 2.0]\n",
    "\n",
    "gt2_avg_monthly_precip"
   ]
  }
 ],
 "metadata": {
  "language_info": {
   "name": "python"
  }
 },
 "nbformat": 4,
 "nbformat_minor": 2
}
